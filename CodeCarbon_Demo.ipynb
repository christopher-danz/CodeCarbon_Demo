{
 "cells": [
  {
   "cell_type": "code",
   "execution_count": null,
   "id": "73c32df9",
   "metadata": {},
   "outputs": [],
   "source": [
    "!conda create --name codecarbon_env"
   ]
  },
  {
   "cell_type": "code",
   "execution_count": null,
   "id": "f5c9437c",
   "metadata": {},
   "outputs": [],
   "source": [
    "!conda activate codecarbon_env"
   ]
  },
  {
   "cell_type": "code",
   "execution_count": null,
   "id": "9cf032a4",
   "metadata": {},
   "outputs": [],
   "source": [
    "!pip install codecarbon\n",
    "!pip install sklearn, numpy, pandas\n",
    "!pip install tensorflow"
   ]
  },
  {
   "cell_type": "code",
   "execution_count": null,
   "id": "523f3d8d",
   "metadata": {},
   "outputs": [],
   "source": [
    "import numpy as np\n",
    "import pandas as pd\n",
    "\n",
    "from sklearn.datasets import make_regression\n",
    "from sklearn.model_selection import train_test_split\n",
    "from sklearn.preprocessing import StandardScaler\n",
    "from sklearn.linear_model import LinearRegression\n",
    "from sklearn.svm import SVR\n",
    "\n",
    "from tensorflow.keras.models import Sequential\n",
    "from tensorflow.keras.layers import Dense\n",
    "\n",
    "from codecarbon import EmissionsTracker"
   ]
  },
  {
   "cell_type": "markdown",
   "id": "6bd1a815",
   "metadata": {},
   "source": [
    "### Generate a Dummy Dataset (and split it)"
   ]
  },
  {
   "cell_type": "code",
   "execution_count": null,
   "id": "7c9759cc",
   "metadata": {},
   "outputs": [],
   "source": [
    "X, y = make_regression(n_samples=1000, n_features=10, noise=0.1, random_state=42)\n",
    "\n",
    "# split dataset into training and test partition\n",
    "X_train, X_test, y_train, y_test = train_test_split(X, y, test_size=0.2, random_state=42)"
   ]
  },
  {
   "cell_type": "markdown",
   "id": "2824132c",
   "metadata": {},
   "source": [
    "### Data Preprocessing\n"
   ]
  },
  {
   "cell_type": "code",
   "execution_count": null,
   "id": "f5fbada8",
   "metadata": {},
   "outputs": [],
   "source": [
    "scaler = StandardScaler()\n",
    "\n",
    "X_train_scaled = scaler.fit_transform(X_train)\n",
    "X_test_scaled = scaler.transform(X_test)"
   ]
  },
  {
   "cell_type": "markdown",
   "id": "d62b691d",
   "metadata": {},
   "source": [
    "### Train a Simple ML Model"
   ]
  },
  {
   "cell_type": "code",
   "execution_count": null,
   "id": "d646dcd7",
   "metadata": {},
   "outputs": [],
   "source": [
    "# start tracking carbon emissions for LinReg\n",
    "\n",
    "tracker_lr = EmissionsTracker()\n",
    "tracker_lr.start()\n",
    "\n",
    "# create model instance and train it on data\n",
    "linear_model = LinearRegression()\n",
    "linear_model.fit(X_train_scaled, y_train)\n",
    "\n",
    "# stop tracking for Linear Regression\n",
    "emissions_lr = tracker_lr.stop()\n",
    "print(f\"Carbon emissions for trainign linear regression: {emissions_lr} kg\")"
   ]
  },
  {
   "cell_type": "markdown",
   "id": "115accd9",
   "metadata": {},
   "source": [
    "### Train a More Complex ML Model "
   ]
  },
  {
   "cell_type": "code",
   "execution_count": null,
   "id": "cf63b5b1",
   "metadata": {},
   "outputs": [],
   "source": [
    "# let's build a simple NN\n",
    "model = Sequential()\n",
    "model.add(Dense(64, activation='relu', input_shape=(X_train_scaled.shape[1],)))\n",
    "model.add(Dense(32, activation='relu'))\n",
    "model.add(Dense(1, activation='linear'))\n",
    "\n",
    "model.compile(optimizer='adam', loss='mean_squared_error')\n",
    "\n",
    "# start tracking carbon emissions for NN\n",
    "tracker_nn = EmissionsTracker()\n",
    "tracker_nn.start()\n",
    "\n",
    "# train the model\n",
    "model.fit(X_train_scaled, y_train, epochs=10, batch_size=32)\n",
    "\n",
    "# stop tracking for NN\n",
    "emissions_nn = tracker_nn.stop()\n",
    "print(f\"Carbon emissions for training neural network: {emissions_nn} kg\")"
   ]
  },
  {
   "cell_type": "code",
   "execution_count": null,
   "id": "a96e852e",
   "metadata": {},
   "outputs": [],
   "source": []
  }
 ],
 "metadata": {
  "kernelspec": {
   "display_name": "Python 3 (ipykernel)",
   "language": "python",
   "name": "python3"
  },
  "language_info": {
   "codemirror_mode": {
    "name": "ipython",
    "version": 3
   },
   "file_extension": ".py",
   "mimetype": "text/x-python",
   "name": "python",
   "nbconvert_exporter": "python",
   "pygments_lexer": "ipython3",
   "version": "3.11.5"
  }
 },
 "nbformat": 4,
 "nbformat_minor": 5
}
